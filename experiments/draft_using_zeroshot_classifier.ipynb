{
 "cells": [
  {
   "cell_type": "code",
   "execution_count": 1,
   "metadata": {},
   "outputs": [
    {
     "name": "stdout",
     "output_type": "stream",
     "text": [
      "Collecting liqfit\n",
      "  Downloading liqfit-1.0.0-py3-none-any.whl (29 kB)\n",
      "Collecting sentencepiece\n",
      "  Downloading sentencepiece-0.2.0-cp39-cp39-macosx_11_0_arm64.whl (1.2 MB)\n",
      "\u001b[K     |████████████████████████████████| 1.2 MB 2.8 MB/s eta 0:00:01\n",
      "\u001b[?25hCollecting kornia\n",
      "  Downloading kornia-0.8.0-py2.py3-none-any.whl (1.1 MB)\n",
      "\u001b[K     |████████████████████████████████| 1.1 MB 47.2 MB/s eta 0:00:01\n",
      "\u001b[?25hCollecting accelerate\n",
      "  Downloading accelerate-1.5.2-py3-none-any.whl (345 kB)\n",
      "\u001b[K     |████████████████████████████████| 345 kB 35.5 MB/s eta 0:00:01\n",
      "\u001b[?25hRequirement already satisfied: transformers in /Users/rudie/miniconda3/envs/testing-ner/lib/python3.9/site-packages (from liqfit) (4.36.2)\n",
      "Requirement already satisfied: pyyaml in /Users/rudie/miniconda3/envs/testing-ner/lib/python3.9/site-packages (from accelerate->liqfit) (6.0.2)\n",
      "Requirement already satisfied: packaging>=20.0 in /Users/rudie/miniconda3/envs/testing-ner/lib/python3.9/site-packages (from accelerate->liqfit) (24.1)\n",
      "Requirement already satisfied: torch>=2.0.0 in /Users/rudie/miniconda3/envs/testing-ner/lib/python3.9/site-packages (from accelerate->liqfit) (2.4.1)\n",
      "Requirement already satisfied: huggingface-hub>=0.21.0 in /Users/rudie/miniconda3/envs/testing-ner/lib/python3.9/site-packages (from accelerate->liqfit) (0.25.2)\n",
      "Requirement already satisfied: psutil in /Users/rudie/miniconda3/envs/testing-ner/lib/python3.9/site-packages (from accelerate->liqfit) (5.9.0)\n",
      "Requirement already satisfied: safetensors>=0.4.3 in /Users/rudie/miniconda3/envs/testing-ner/lib/python3.9/site-packages (from accelerate->liqfit) (0.4.5)\n",
      "Requirement already satisfied: numpy<3.0.0,>=1.17 in /Users/rudie/miniconda3/envs/testing-ner/lib/python3.9/site-packages (from accelerate->liqfit) (1.26.4)\n",
      "Requirement already satisfied: tqdm>=4.42.1 in /Users/rudie/miniconda3/envs/testing-ner/lib/python3.9/site-packages (from huggingface-hub>=0.21.0->accelerate->liqfit) (4.66.5)\n",
      "Requirement already satisfied: filelock in /Users/rudie/miniconda3/envs/testing-ner/lib/python3.9/site-packages (from huggingface-hub>=0.21.0->accelerate->liqfit) (3.16.1)\n",
      "Requirement already satisfied: requests in /Users/rudie/miniconda3/envs/testing-ner/lib/python3.9/site-packages (from huggingface-hub>=0.21.0->accelerate->liqfit) (2.32.3)\n",
      "Requirement already satisfied: typing-extensions>=3.7.4.3 in /Users/rudie/miniconda3/envs/testing-ner/lib/python3.9/site-packages (from huggingface-hub>=0.21.0->accelerate->liqfit) (4.12.2)\n",
      "Requirement already satisfied: fsspec>=2023.5.0 in /Users/rudie/miniconda3/envs/testing-ner/lib/python3.9/site-packages (from huggingface-hub>=0.21.0->accelerate->liqfit) (2024.12.0)\n",
      "Requirement already satisfied: sympy in /Users/rudie/miniconda3/envs/testing-ner/lib/python3.9/site-packages (from torch>=2.0.0->accelerate->liqfit) (1.13.3)\n",
      "Requirement already satisfied: jinja2 in /Users/rudie/miniconda3/envs/testing-ner/lib/python3.9/site-packages (from torch>=2.0.0->accelerate->liqfit) (3.1.4)\n",
      "Requirement already satisfied: networkx in /Users/rudie/miniconda3/envs/testing-ner/lib/python3.9/site-packages (from torch>=2.0.0->accelerate->liqfit) (3.2.1)\n",
      "Requirement already satisfied: MarkupSafe>=2.0 in /Users/rudie/miniconda3/envs/testing-ner/lib/python3.9/site-packages (from jinja2->torch>=2.0.0->accelerate->liqfit) (3.0.1)\n",
      "Collecting kornia_rs>=0.1.0\n",
      "  Downloading kornia_rs-0.1.8-cp39-cp39-macosx_11_0_arm64.whl (1.7 MB)\n",
      "\u001b[K     |████████████████████████████████| 1.7 MB 34.5 MB/s eta 0:00:01\n",
      "\u001b[?25hRequirement already satisfied: urllib3<3,>=1.21.1 in /Users/rudie/miniconda3/envs/testing-ner/lib/python3.9/site-packages (from requests->huggingface-hub>=0.21.0->accelerate->liqfit) (2.2.3)\n",
      "Requirement already satisfied: certifi>=2017.4.17 in /Users/rudie/miniconda3/envs/testing-ner/lib/python3.9/site-packages (from requests->huggingface-hub>=0.21.0->accelerate->liqfit) (2024.8.30)\n",
      "Requirement already satisfied: charset-normalizer<4,>=2 in /Users/rudie/miniconda3/envs/testing-ner/lib/python3.9/site-packages (from requests->huggingface-hub>=0.21.0->accelerate->liqfit) (3.4.0)\n",
      "Requirement already satisfied: idna<4,>=2.5 in /Users/rudie/miniconda3/envs/testing-ner/lib/python3.9/site-packages (from requests->huggingface-hub>=0.21.0->accelerate->liqfit) (3.10)\n",
      "Requirement already satisfied: mpmath<1.4,>=1.1.0 in /Users/rudie/miniconda3/envs/testing-ner/lib/python3.9/site-packages (from sympy->torch>=2.0.0->accelerate->liqfit) (1.3.0)\n",
      "Requirement already satisfied: tokenizers<0.19,>=0.14 in /Users/rudie/miniconda3/envs/testing-ner/lib/python3.9/site-packages (from transformers->liqfit) (0.15.2)\n",
      "Requirement already satisfied: regex!=2019.12.17 in /Users/rudie/miniconda3/envs/testing-ner/lib/python3.9/site-packages (from transformers->liqfit) (2024.9.11)\n",
      "Installing collected packages: kornia-rs, kornia, accelerate, sentencepiece, liqfit\n",
      "Successfully installed accelerate-1.5.2 kornia-0.8.0 kornia-rs-0.1.8 liqfit-1.0.0 sentencepiece-0.2.0\n"
     ]
    }
   ],
   "source": [
    "! pip install liqfit sentencepiece"
   ]
  },
  {
   "cell_type": "code",
   "execution_count": 2,
   "metadata": {},
   "outputs": [
    {
     "name": "stderr",
     "output_type": "stream",
     "text": [
      "/Users/rudie/miniconda3/envs/testing-ner/lib/python3.9/site-packages/tqdm/auto.py:21: TqdmWarning: IProgress not found. Please update jupyter and ipywidgets. See https://ipywidgets.readthedocs.io/en/stable/user_install.html\n",
      "  from .autonotebook import tqdm as notebook_tqdm\n",
      "/Users/rudie/miniconda3/envs/testing-ner/lib/python3.9/site-packages/transformers/utils/generic.py:441: FutureWarning: `torch.utils._pytree._register_pytree_node` is deprecated. Please use `torch.utils._pytree.register_pytree_node` instead.\n",
      "  _torch_pytree._register_pytree_node(\n",
      "/Users/rudie/miniconda3/envs/testing-ner/lib/python3.9/site-packages/transformers/utils/generic.py:309: FutureWarning: `torch.utils._pytree._register_pytree_node` is deprecated. Please use `torch.utils._pytree.register_pytree_node` instead.\n",
      "  _torch_pytree._register_pytree_node(\n",
      "/Users/rudie/miniconda3/envs/testing-ner/lib/python3.9/site-packages/huggingface_hub/file_download.py:1142: FutureWarning: `resume_download` is deprecated and will be removed in version 1.0.0. Downloads always resume when possible. If you want to force a new download, use `force_download=True`.\n",
      "  warnings.warn(\n",
      "You are using a model of type T5 to instantiate a model of type t5. This is not supported for all configurations of models and can yield errors.\n",
      "/Users/rudie/miniconda3/envs/testing-ner/lib/python3.9/site-packages/transformers/modeling_utils.py:519: FutureWarning: You are using `torch.load` with `weights_only=False` (the current default value), which uses the default pickle module implicitly. It is possible to construct malicious pickle data which will execute arbitrary code during unpickling (See https://github.com/pytorch/pytorch/blob/main/SECURITY.md#untrusted-models for more details). In a future release, the default value for `weights_only` will be flipped to `True`. This limits the functions that could be executed during unpickling. Arbitrary objects will no longer be allowed to be loaded via this mode unless they are explicitly allowlisted by the user via `torch.serialization.add_safe_globals`. We recommend you start setting `weights_only=True` for any use case where you don't have full control of the loaded file. Please open an issue on GitHub for any issues related to this experimental feature.\n",
      "  return torch.load(checkpoint_file, map_location=map_location)\n",
      "You are using the default legacy behaviour of the <class 'transformers.models.t5.tokenization_t5.T5Tokenizer'>. This is expected, and simply means that the `legacy` (previous) behavior will be used so nothing changes for you. If you want to use the new behaviour, set `legacy=False`. This should only be set if you understand what it means, and thouroughly read the reason why this was added as explained in https://github.com/huggingface/transformers/pull/24565\n"
     ]
    }
   ],
   "source": [
    "from liqfit.pipeline import ZeroShotClassificationPipeline\n",
    "from liqfit.models import T5ForZeroShotClassification\n",
    "from transformers import T5Tokenizer\n",
    "\n",
    "model = T5ForZeroShotClassification.from_pretrained('knowledgator/comprehend_it-multilingual-t5-base')\n",
    "tokenizer = T5Tokenizer.from_pretrained('knowledgator/comprehend_it-multilingual-t5-base')\n",
    "classifier = ZeroShotClassificationPipeline(model=model, tokenizer=tokenizer,\n",
    "                                                      hypothesis_template = '{}', encoder_decoder = True)\n"
   ]
  },
  {
   "cell_type": "code",
   "execution_count": 15,
   "metadata": {},
   "outputs": [
    {
     "data": {
      "text/plain": [
       "{'sequence': 'Німець Желдаков Олександр Георгійович (ідентифікаційний номер НОМЕР_1)',\n",
       " 'labels': ['ідентифікаційний номер',\n",
       "  'державний номерний знак',\n",
       "  'IMEI',\n",
       "  'номер паспорту',\n",
       "  'свідоцтво про смерть',\n",
       "  'номер військової частини',\n",
       "  'номер телефону'],\n",
       " 'scores': [0.4329317808151245,\n",
       "  0.22917179763317108,\n",
       "  0.16063237190246582,\n",
       "  0.09296417981386185,\n",
       "  0.031021302565932274,\n",
       "  0.028576685115695,\n",
       "  0.024701900780200958]}"
      ]
     },
     "execution_count": 15,
     "metadata": {},
     "output_type": "execute_result"
    }
   ],
   "source": [
    "sequence_to_classify = \"Німець Желдаков Олександр Георгійович (ідентифікаційний номер НОМЕР_1)\"\n",
    "candidate_labels = [\n",
    "    'ідентифікаційний номер',\n",
    "    'номер паспорту',\n",
    "    'свідоцтво про смерть',\n",
    "    'номер військової частини',\n",
    "    'номер телефону',\n",
    "    'IMEI',\n",
    "    'державний номерний знак'\n",
    "]\n",
    "classifier(sequence_to_classify, candidate_labels, multi_label=False)\n"
   ]
  },
  {
   "cell_type": "code",
   "execution_count": 17,
   "metadata": {},
   "outputs": [],
   "source": [
    "! pip install -q liqfit sentencepiece"
   ]
  }
 ],
 "metadata": {
  "kernelspec": {
   "display_name": "testing-ner",
   "language": "python",
   "name": "python3"
  },
  "language_info": {
   "codemirror_mode": {
    "name": "ipython",
    "version": 3
   },
   "file_extension": ".py",
   "mimetype": "text/x-python",
   "name": "python",
   "nbconvert_exporter": "python",
   "pygments_lexer": "ipython3",
   "version": "3.11.11"
  }
 },
 "nbformat": 4,
 "nbformat_minor": 2
}
